{
 "cells": [
  {
   "cell_type": "markdown",
   "metadata": {
    "application/vnd.databricks.v1+cell": {
     "cellMetadata": {},
     "inputWidgets": {},
     "nuid": "eb199a90-116d-4e33-9977-8cdc5982577c",
     "showTitle": false,
     "tableResultSettingsMap": {},
     "title": ""
    }
   },
   "source": [
    "##### 1. Lendo os arquivos CSV"
   ]
  },
  {
   "cell_type": "markdown",
   "metadata": {
    "application/vnd.databricks.v1+cell": {
     "cellMetadata": {},
     "inputWidgets": {},
     "nuid": "85a4be43-d5d6-4e86-ad35-a7ac65b713fc",
     "showTitle": false,
     "tableResultSettingsMap": {},
     "title": ""
    }
   },
   "source": [
    "###### Lendo a tabela Master do UFC"
   ]
  },
  {
   "cell_type": "code",
   "execution_count": 0,
   "metadata": {
    "application/vnd.databricks.v1+cell": {
     "cellMetadata": {
      "byteLimit": 2048000,
      "rowLimit": 10000
     },
     "inputWidgets": {},
     "nuid": "3d80a637-7d41-4a4d-8e8e-21c9c78f9f0b",
     "showTitle": false,
     "tableResultSettingsMap": {},
     "title": ""
    }
   },
   "outputs": [],
   "source": [
    "# Atribuindo o caminho do arquivo CSV na variável 'path'\n",
    "path = '/Volumes/workspace/default/meus-arquivos/ufc/ufc-master.csv'\n",
    "\n",
    "# Lendo o arquivo CSV na variável 'df'\n",
    "df = spark.read.format('CSV')\\\n",
    "    .option('header','true')\\\n",
    "    .option('inferSchema','true')\\\n",
    "    .load(path)\n",
    "display(df)"
   ]
  },
  {
   "cell_type": "markdown",
   "metadata": {
    "application/vnd.databricks.v1+cell": {
     "cellMetadata": {},
     "inputWidgets": {},
     "nuid": "f4cc1d30-acd2-42c4-9829-c2ca19ca5566",
     "showTitle": false,
     "tableResultSettingsMap": {},
     "title": ""
    }
   },
   "source": [
    "\n",
    "###### Lendo a tabela de próximas lutas"
   ]
  },
  {
   "cell_type": "code",
   "execution_count": 0,
   "metadata": {
    "application/vnd.databricks.v1+cell": {
     "cellMetadata": {
      "byteLimit": 2048000,
      "rowLimit": 10000
     },
     "inputWidgets": {},
     "nuid": "bf051ba3-6f90-422d-885d-4fd87f0b3052",
     "showTitle": false,
     "tableResultSettingsMap": {},
     "title": ""
    }
   },
   "outputs": [],
   "source": [
    "# Atribuindo o caminho do arquivo CSV na variável 'path'\n",
    "path = '/Volumes/workspace/default/meus-arquivos/ufc/upcoming.csv'\n",
    "\n",
    "# Lendo o arquivo CSV na variável 'df'\n",
    "df = spark.read.format('CSV')\\\n",
    "    .option('header','true')\\\n",
    "    .option('inferSchema','true')\\\n",
    "    .load(path)\n",
    "display(df)"
   ]
  },
  {
   "cell_type": "markdown",
   "metadata": {
    "application/vnd.databricks.v1+cell": {
     "cellMetadata": {},
     "inputWidgets": {},
     "nuid": "cabf3a8f-165d-44c7-8209-6366881d3b66",
     "showTitle": false,
     "tableResultSettingsMap": {},
     "title": ""
    }
   },
   "source": [
    "\n",
    "##### 2. Salvando os arquivos em tabelas SQL para manipulação"
   ]
  },
  {
   "cell_type": "markdown",
   "metadata": {
    "application/vnd.databricks.v1+cell": {
     "cellMetadata": {},
     "inputWidgets": {},
     "nuid": "a97c25a6-3e1c-454e-a762-7a08d80a5f01",
     "showTitle": false,
     "tableResultSettingsMap": {},
     "title": ""
    }
   },
   "source": [
    "\n",
    "###### O código para criação do SCHEMA está localizado na pasta SQL e notebook SQL"
   ]
  },
  {
   "cell_type": "code",
   "execution_count": 0,
   "metadata": {
    "application/vnd.databricks.v1+cell": {
     "cellMetadata": {
      "byteLimit": 2048000,
      "rowLimit": 10000
     },
     "inputWidgets": {},
     "nuid": "057a487f-0b99-41d6-a726-80fb5da82828",
     "showTitle": false,
     "tableResultSettingsMap": {},
     "title": ""
    }
   },
   "outputs": [],
   "source": [
    "# Criando a tabela ufc master\n",
    "\n",
    "path = '/Volumes/workspace/default/meus-arquivos/ufc/ufc-master.csv'\n",
    "\n",
    "# Lendo o arquivo CSV na variável 'df'\n",
    "df = spark.read.format('CSV')\\\n",
    "    .option('header','true')\\\n",
    "    .option('inferSchema','true')\\\n",
    "    .load(path)\n",
    "\n",
    "df.write.mode('overwrite').saveAsTable('workspace.ufc.ufc_master')"
   ]
  },
  {
   "cell_type": "code",
   "execution_count": 0,
   "metadata": {
    "application/vnd.databricks.v1+cell": {
     "cellMetadata": {
      "byteLimit": 2048000,
      "rowLimit": 10000
     },
     "inputWidgets": {},
     "nuid": "bc28fcc5-3a68-4e6b-bfb1-9fcf330cc783",
     "showTitle": false,
     "tableResultSettingsMap": {},
     "title": ""
    }
   },
   "outputs": [],
   "source": [
    "# Criando a tabela das próximas lutas\n",
    "\n",
    "# Atribuindo o caminho do arquivo CSV na variável 'path'\n",
    "path = '/Volumes/workspace/default/meus-arquivos/ufc/upcoming.csv'\n",
    "\n",
    "# Lendo o arquivo CSV na variável 'df'\n",
    "df = spark.read.format('CSV')\\\n",
    "    .option('header','true')\\\n",
    "    .option('inferSchema','true')\\\n",
    "    .load(path)\n",
    "\n",
    "df.write.mode('overwrite').saveAsTable('workspace.ufc.upcoming')"
   ]
  }
 ],
 "metadata": {
  "application/vnd.databricks.v1+notebook": {
   "computePreferences": {
    "hardware": {
     "accelerator": null,
     "gpuPoolId": null,
     "memory": null
    }
   },
   "dashboards": [],
   "environmentMetadata": {
    "base_environment": "",
    "environment_version": "2"
   },
   "inputWidgetPreferences": null,
   "language": "python",
   "notebookMetadata": {
    "mostRecentlyExecutedCommandWithImplicitDF": {
     "commandId": 4594032365695561,
     "dataframes": [
      "_sqldf"
     ]
    },
    "pythonIndentUnit": 4
   },
   "notebookName": "Python",
   "widgets": {}
  },
  "language_info": {
   "name": "python"
  }
 },
 "nbformat": 4,
 "nbformat_minor": 0
}
